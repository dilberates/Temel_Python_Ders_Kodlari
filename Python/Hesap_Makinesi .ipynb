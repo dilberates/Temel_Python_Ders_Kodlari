{
 "cells": [
  {
   "cell_type": "code",
   "execution_count": null,
   "metadata": {},
   "outputs": [],
   "source": [
    "def hesapla(a,b,islem):\n",
    "    if islem not in \"+-*/\":\n",
    "        return \"Lütfen + , - , / , * işlemlerinden birini seçiniz.\"\n",
    "    if islem==\"+\":\n",
    "        return (str(a)+\" + \"+str(b)+\" = \"+str(a+b))\n",
    "    if islem==\"-\":\n",
    "        return (str(a)+\" - \"+str(b)+\" = \"+str(a-b))\n",
    "    if islem==\"*\":\n",
    "        return (str(a)+\" * \"+str(b)+\" = \"+str(a*b))\n",
    "    if islem==\"/\":\n",
    "        return (str(a)+\" / \"+str(b)+\" = \"+str(a/b))\n",
    "while True:\n",
    "    try:\n",
    "        a=int(input(\"İlk sayıyı giriniz: \"))\n",
    "        b=int(input(\"İkinci sayıyı giriniz: \"))\n",
    "        islem=input(\"İşleminizi seçiniz: + , - , / , * : \")\n",
    "        print(hesapla(a,b,islem))\n",
    "    except:\n",
    "        print(\"Sayıları düzgün giriniz .\")\n",
    "    "
   ]
  },
  {
   "cell_type": "code",
   "execution_count": null,
   "metadata": {},
   "outputs": [],
   "source": []
  },
  {
   "cell_type": "code",
   "execution_count": null,
   "metadata": {},
   "outputs": [],
   "source": []
  }
 ],
 "metadata": {
  "kernelspec": {
   "display_name": "Python 3",
   "language": "python",
   "name": "python3"
  }
 },
 "nbformat": 4,
 "nbformat_minor": 2
}
