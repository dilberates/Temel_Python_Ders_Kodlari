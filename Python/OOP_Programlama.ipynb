{
 "cells": [
  {
   "cell_type": "markdown",
   "metadata": {},
   "source": [
    "## instance & attribute"
   ]
  },
  {
   "cell_type": "code",
   "execution_count": 38,
   "metadata": {},
   "outputs": [],
   "source": [
    "class SuperKahraman():\n",
    "    \n",
    "    ozelGuc=\"Görünmezlik\"\n",
    "    \n",
    "    def __init__(self,isimInput,yasInput,meslekInput):\n",
    "        print(\"init çağırıldı\")\n",
    "        self.isim=isimInput\n",
    "        self.yas=yasInput\n",
    "        self.meslek=meslekInput\n",
    "        \n",
    "    def ornekMetod(self):\n",
    "        print(f\"ben süper kahramanım adım : {self.isim}\")"
   ]
  },
  {
   "cell_type": "code",
   "execution_count": 39,
   "metadata": {},
   "outputs": [
    {
     "name": "stdout",
     "output_type": "stream",
     "text": [
      "init çağırıldı\n"
     ]
    }
   ],
   "source": [
    "superman=SuperKahraman(\"Superman\",30,\"Gazeteci\")"
   ]
  },
  {
   "cell_type": "code",
   "execution_count": 40,
   "metadata": {},
   "outputs": [
    {
     "data": {
      "text/plain": [
       "'Görünmezlik'"
      ]
     },
     "execution_count": 40,
     "metadata": {},
     "output_type": "execute_result"
    }
   ],
   "source": [
    "superman.ozelGuc"
   ]
  },
  {
   "cell_type": "code",
   "execution_count": 41,
   "metadata": {},
   "outputs": [
    {
     "name": "stdout",
     "output_type": "stream",
     "text": [
      "ben süper kahramanım adım : Superman\n"
     ]
    }
   ],
   "source": [
    "superman.ornekMetod()"
   ]
  },
  {
   "cell_type": "code",
   "execution_count": 49,
   "metadata": {},
   "outputs": [],
   "source": [
    "class Kopek():\n",
    "    def __init__(self,yas=5):\n",
    "        self.yas=yas\n",
    "    def insanYasHesaplama(self):\n",
    "        sonuc = 7 * self.yas\n",
    "        print(f\"Köpeğin insan yaşı : {sonuc}\")\n",
    "        #başka bir yol = return 7 * self.yas"
   ]
  },
  {
   "cell_type": "code",
   "execution_count": 50,
   "metadata": {},
   "outputs": [],
   "source": [
    "benimKopek=Kopek(3)"
   ]
  },
  {
   "cell_type": "code",
   "execution_count": 51,
   "metadata": {},
   "outputs": [
    {
     "data": {
      "text/plain": [
       "3"
      ]
     },
     "execution_count": 51,
     "metadata": {},
     "output_type": "execute_result"
    }
   ],
   "source": [
    "benimKopek.yas"
   ]
  },
  {
   "cell_type": "code",
   "execution_count": 52,
   "metadata": {},
   "outputs": [
    {
     "name": "stdout",
     "output_type": "stream",
     "text": [
      "Köpeğin insan yaşı : 21\n"
     ]
    }
   ],
   "source": [
    "benimKopek.insanYasHesaplama()"
   ]
  },
  {
   "cell_type": "markdown",
   "metadata": {},
   "source": [
    "## INHERITANCE (KALITIM)"
   ]
  },
  {
   "cell_type": "code",
   "execution_count": 55,
   "metadata": {},
   "outputs": [],
   "source": [
    "class Hayvan():\n",
    "    def __init__(self):\n",
    "        print(\"hayvan sınıfı init çağırıldı\")\n",
    "    def metod1(self):\n",
    "        print(\"hayvan sınıfı metod1 çağırıldı\")\n",
    "    def metod2(self):\n",
    "        print(\"hayvan sınıfı metod2 çağırıldı\")"
   ]
  },
  {
   "cell_type": "code",
   "execution_count": 74,
   "metadata": {},
   "outputs": [],
   "source": [
    "class Kedi(Hayvan):\n",
    "    def __init__(self):\n",
    "        Hayvan.__init__(self)\n",
    "        print(\"kedi sınıfı init çağırıldı\")\n",
    "    def miyavla(self):\n",
    "        print(\"miyav\")\n",
    "    def metod1(self):#override\n",
    "        print(\"kedi sınıfı metod1 çağırıldı\")\n",
    "        "
   ]
  },
  {
   "cell_type": "code",
   "execution_count": 75,
   "metadata": {},
   "outputs": [
    {
     "name": "stdout",
     "output_type": "stream",
     "text": [
      "hayvan sınıfı init çağırıldı\n",
      "kedi sınıfı init çağırıldı\n"
     ]
    }
   ],
   "source": [
    "kedi=Kedi()"
   ]
  },
  {
   "cell_type": "code",
   "execution_count": 76,
   "metadata": {},
   "outputs": [
    {
     "name": "stdout",
     "output_type": "stream",
     "text": [
      "kedi sınıfı metod1 çağırıldı\n"
     ]
    }
   ],
   "source": [
    "kedi.metod1()"
   ]
  },
  {
   "cell_type": "code",
   "execution_count": 77,
   "metadata": {},
   "outputs": [
    {
     "name": "stdout",
     "output_type": "stream",
     "text": [
      "miyav\n"
     ]
    }
   ],
   "source": [
    "kedi.miyavla()"
   ]
  },
  {
   "cell_type": "markdown",
   "metadata": {},
   "source": [
    "## POLYMORPHISM"
   ]
  },
  {
   "cell_type": "code",
   "execution_count": 79,
   "metadata": {},
   "outputs": [],
   "source": [
    "class Elma():\n",
    "    def __init__(self,isim):\n",
    "        self.isim=isim\n",
    "    def bilgiVer(self):\n",
    "        return self.isim + \" 100 KALORİDİR.\""
   ]
  },
  {
   "cell_type": "code",
   "execution_count": 81,
   "metadata": {},
   "outputs": [],
   "source": [
    "class Muz():\n",
    "    def __init__(self,isim):\n",
    "        self.isim=isim\n",
    "    def bilgiVer(self):\n",
    "        return self.isim + \" 150 KALORİDİR.\""
   ]
  },
  {
   "cell_type": "code",
   "execution_count": 82,
   "metadata": {},
   "outputs": [],
   "source": [
    "elma=Elma(\"elma\")"
   ]
  },
  {
   "cell_type": "code",
   "execution_count": 83,
   "metadata": {},
   "outputs": [
    {
     "data": {
      "text/plain": [
       "'elma 100 KALORİDİR.'"
      ]
     },
     "execution_count": 83,
     "metadata": {},
     "output_type": "execute_result"
    }
   ],
   "source": [
    "elma.bilgiVer()"
   ]
  },
  {
   "cell_type": "code",
   "execution_count": 84,
   "metadata": {},
   "outputs": [],
   "source": [
    "muz=Muz(\"muz\")"
   ]
  },
  {
   "cell_type": "code",
   "execution_count": 85,
   "metadata": {},
   "outputs": [
    {
     "data": {
      "text/plain": [
       "'muz 150 KALORİDİR.'"
      ]
     },
     "execution_count": 85,
     "metadata": {},
     "output_type": "execute_result"
    }
   ],
   "source": [
    "muz.bilgiVer()"
   ]
  },
  {
   "cell_type": "code",
   "execution_count": 86,
   "metadata": {},
   "outputs": [],
   "source": [
    "meyveListesi=[elma,muz]"
   ]
  },
  {
   "cell_type": "code",
   "execution_count": 88,
   "metadata": {},
   "outputs": [
    {
     "name": "stdout",
     "output_type": "stream",
     "text": [
      "elma 100 KALORİDİR.\n",
      "muz 150 KALORİDİR.\n"
     ]
    }
   ],
   "source": [
    "for meyve in meyveListesi:\n",
    "    print(meyve.bilgiVer())"
   ]
  },
  {
   "cell_type": "code",
   "execution_count": 89,
   "metadata": {},
   "outputs": [],
   "source": [
    "def bilgiAl(meyve):\n",
    "    print(meyve.bilgiVer())"
   ]
  },
  {
   "cell_type": "code",
   "execution_count": 91,
   "metadata": {},
   "outputs": [
    {
     "name": "stdout",
     "output_type": "stream",
     "text": [
      "muz 150 KALORİDİR.\n"
     ]
    }
   ],
   "source": [
    "bilgiAl(muz)"
   ]
  },
  {
   "cell_type": "markdown",
   "metadata": {},
   "source": [
    "## ÖZEL METODLAR"
   ]
  },
  {
   "cell_type": "code",
   "execution_count": 119,
   "metadata": {},
   "outputs": [],
   "source": [
    "class Meyve():\n",
    "    def __init__(self,isim,kalori):\n",
    "        self.isim=isim\n",
    "        self.kalori=kalori\n",
    "    def __str__(self):\n",
    "        return f\"{self.isim} şu kadar kaloriye sahiptir : {self.kalori}\"\n",
    "    def __len__(self):\n",
    "        return self.kalori"
   ]
  },
  {
   "cell_type": "code",
   "execution_count": 120,
   "metadata": {},
   "outputs": [],
   "source": [
    "muz=Meyve(\"muz\",150)"
   ]
  },
  {
   "cell_type": "code",
   "execution_count": 121,
   "metadata": {},
   "outputs": [
    {
     "data": {
      "text/plain": [
       "'muz'"
      ]
     },
     "execution_count": 121,
     "metadata": {},
     "output_type": "execute_result"
    }
   ],
   "source": [
    "muz.isim"
   ]
  },
  {
   "cell_type": "code",
   "execution_count": 122,
   "metadata": {},
   "outputs": [
    {
     "name": "stdout",
     "output_type": "stream",
     "text": [
      "muz şu kadar kaloriye sahiptir : 150\n"
     ]
    }
   ],
   "source": [
    "print(muz)"
   ]
  },
  {
   "cell_type": "code",
   "execution_count": 123,
   "metadata": {},
   "outputs": [],
   "source": [
    "benimListem=[1,2,3,\"a\",4.5]"
   ]
  },
  {
   "cell_type": "code",
   "execution_count": 124,
   "metadata": {},
   "outputs": [
    {
     "name": "stdout",
     "output_type": "stream",
     "text": [
      "[1, 2, 3, 'a', 4.5]\n"
     ]
    }
   ],
   "source": [
    "print(benimListem)"
   ]
  },
  {
   "cell_type": "code",
   "execution_count": 125,
   "metadata": {},
   "outputs": [
    {
     "data": {
      "text/plain": [
       "5"
      ]
     },
     "execution_count": 125,
     "metadata": {},
     "output_type": "execute_result"
    }
   ],
   "source": [
    "len(benimListem)"
   ]
  },
  {
   "cell_type": "code",
   "execution_count": 126,
   "metadata": {},
   "outputs": [
    {
     "data": {
      "text/plain": [
       "150"
      ]
     },
     "execution_count": 126,
     "metadata": {},
     "output_type": "execute_result"
    }
   ],
   "source": [
    "len(muz)"
   ]
  },
  {
   "cell_type": "code",
   "execution_count": 127,
   "metadata": {},
   "outputs": [],
   "source": [
    "elma=Meyve(\"elma\",200)"
   ]
  },
  {
   "cell_type": "code",
   "execution_count": 128,
   "metadata": {},
   "outputs": [
    {
     "name": "stdout",
     "output_type": "stream",
     "text": [
      "elma şu kadar kaloriye sahiptir : 200\n"
     ]
    }
   ],
   "source": [
    "print(elma)"
   ]
  },
  {
   "cell_type": "markdown",
   "metadata": {},
   "source": [
    "## try - except - else - finally"
   ]
  },
  {
   "cell_type": "code",
   "execution_count": 130,
   "metadata": {},
   "outputs": [
    {
     "name": "stdout",
     "output_type": "stream",
     "text": [
      "Numaranızı giriniz: atıl\n",
      "Lütfen gerçekten numara giriniz .\n",
      "finally çağırıldı\n",
      "Numaranızı giriniz: kamdk\n",
      "Lütfen gerçekten numara giriniz .\n",
      "finally çağırıldı\n",
      "Numaranızı giriniz: 20\n",
      "TEŞEKKÜRLER.\n",
      "finally çağırıldı\n"
     ]
    }
   ],
   "source": [
    "while True:\n",
    "    try:\n",
    "        benimInt=int(input(\"Numaranızı giriniz: \"))\n",
    "    except:\n",
    "        print(\"Lütfen gerçekten numara giriniz .\")\n",
    "    else:\n",
    "        print(\"TEŞEKKÜRLER.\")\n",
    "        break\n",
    "    finally:\n",
    "        print(\"finally çağırıldı\")"
   ]
  },
  {
   "cell_type": "code",
   "execution_count": null,
   "metadata": {},
   "outputs": [],
   "source": []
  }
 ],
 "metadata": {
  "kernelspec": {
   "display_name": "Python 3",
   "language": "python",
   "name": "python3"
  },
  "language_info": {
   "codemirror_mode": {
    "name": "ipython",
    "version": 3
   },
   "file_extension": ".py",
   "mimetype": "text/x-python",
   "name": "python",
   "nbconvert_exporter": "python",
   "pygments_lexer": "ipython3",
   "version": "3.7.3"
  }
 },
 "nbformat": 4,
 "nbformat_minor": 2
}
